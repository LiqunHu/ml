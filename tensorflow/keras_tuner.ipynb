{
 "cells": [
  {
   "cell_type": "markdown",
   "metadata": {
    "id": "Tce3stUlHN0L"
   },
   "source": [
    "##### Copyright 2020 The TensorFlow Authors."
   ]
  },
  {
   "cell_type": "code",
   "execution_count": 1,
   "metadata": {
    "cellView": "form",
    "execution": {
     "iopub.execute_input": "2021-08-13T23:32:39.980379Z",
     "iopub.status.busy": "2021-08-13T23:32:39.979775Z",
     "iopub.status.idle": "2021-08-13T23:32:39.982520Z",
     "shell.execute_reply": "2021-08-13T23:32:39.982847Z"
    },
    "id": "tuOe1ymfHZPu"
   },
   "outputs": [],
   "source": [
    "#@title Licensed under the Apache License, Version 2.0 (the \"License\");\n",
    "# you may not use this file except in compliance with the License.\n",
    "# You may obtain a copy of the License at\n",
    "#\n",
    "# https://www.apache.org/licenses/LICENSE-2.0\n",
    "#\n",
    "# Unless required by applicable law or agreed to in writing, software\n",
    "# distributed under the License is distributed on an \"AS IS\" BASIS,\n",
    "# WITHOUT WARRANTIES OR CONDITIONS OF ANY KIND, either express or implied.\n",
    "# See the License for the specific language governing permissions and\n",
    "# limitations under the License."
   ]
  },
  {
   "cell_type": "markdown",
   "metadata": {
    "id": "qFdPvlXBOdUN"
   },
   "source": [
    "# Keras Tuner 简介"
   ]
  },
  {
   "cell_type": "markdown",
   "metadata": {
    "id": "MfBg1C5NB3X0"
   },
   "source": [
    "<table class=\"tfo-notebook-buttons\" align=\"left\">\n",
    "  <td>     <a target=\"_blank\" href=\"https://tensorflow.google.cn/tutorials/keras/keras_tuner\"><img src=\"https://tensorflow.google.cn/images/tf_logo_32px.png\"> 在 TensorFlow.org 上查看</a>   </td>\n",
    "  <td><a target=\"_blank\" href=\"https://colab.research.google.com/github/tensorflow/docs-l10n/blob/master/site/zh-cn/tutorials/keras/keras_tuner.ipynb\"><img src=\"https://tensorflow.google.cn/images/colab_logo_32px.png\">在 Google Colab 中运行</a></td>\n",
    "  <td><a target=\"_blank\" href=\"https://github.com/tensorflow/docs-l10n/blob/master/site/zh-cn/tutorials/keras/keras_tuner.ipynb\"><img src=\"https://tensorflow.google.cn/images/GitHub-Mark-32px.png\">在 GitHub 上查看源代码</a></td>\n",
    "  <td><a href=\"https://storage.googleapis.com/tensorflow_docs/docs-l10n/site/zh-cn/tutorials/keras/keras_tuner.ipynb\"><img src=\"https://tensorflow.google.cn/images/download_logo_32px.png\">下载笔记本</a></td>\n",
    "</table>"
   ]
  },
  {
   "cell_type": "markdown",
   "metadata": {
    "id": "xHxb-dlhMIzW"
   },
   "source": [
    "## 概述\n",
    "\n",
    "Keras Tuner 是一个库，可帮助您为 TensorFlow 程序选择最佳的超参数集。为您的机器学习 (ML) 应用选择正确的超参数集，这一过程称为*超参数调节*或*超调*。\n",
    "\n",
    "超参数是控制训练过程和 ML 模型拓扑的变量。这些变量在训练过程中保持不变，并会直接影响 ML 程序的性能。超参数有两种类型：\n",
    "\n",
    "1. **模型超参数**：影响模型的选择，例如隐藏层的数量和宽度\n",
    "2. **算法超参数**：影响学习算法的速度和质量，例如随机梯度下降 (SGD) 的学习率以及 k 近邻 (KNN) 分类器的近邻数\n",
    "\n",
    "在本教程中，您将使用 Keras Tuner 对图像分类应用执行超调。"
   ]
  },
  {
   "cell_type": "markdown",
   "metadata": {
    "id": "MUXex9ctTuDB"
   },
   "source": [
    "## 设置"
   ]
  },
  {
   "cell_type": "code",
   "execution_count": 2,
   "metadata": {
    "execution": {
     "iopub.execute_input": "2021-08-13T23:32:39.989747Z",
     "iopub.status.busy": "2021-08-13T23:32:39.989157Z",
     "iopub.status.idle": "2021-08-13T23:32:41.483140Z",
     "shell.execute_reply": "2021-08-13T23:32:41.482587Z"
    },
    "id": "IqR2PQG4ZaZ0"
   },
   "outputs": [],
   "source": [
    "import tensorflow as tf\n",
    "from tensorflow import keras"
   ]
  },
  {
   "cell_type": "markdown",
   "metadata": {
    "id": "g83Lwsy-Aq2_"
   },
   "source": [
    "安装并导入 Keras Tuner。"
   ]
  },
  {
   "cell_type": "code",
   "execution_count": 3,
   "metadata": {
    "execution": {
     "iopub.execute_input": "2021-08-13T23:32:41.493770Z",
     "iopub.status.busy": "2021-08-13T23:32:41.487702Z",
     "iopub.status.idle": "2021-08-13T23:32:43.523691Z",
     "shell.execute_reply": "2021-08-13T23:32:43.523187Z"
    },
    "id": "hpMLpbt9jcO6"
   },
   "outputs": [],
   "source": [
    "!pip install -q -U keras-tuner"
   ]
  },
  {
   "cell_type": "code",
   "execution_count": 4,
   "metadata": {
    "execution": {
     "iopub.execute_input": "2021-08-13T23:32:43.529230Z",
     "iopub.status.busy": "2021-08-13T23:32:43.528261Z",
     "iopub.status.idle": "2021-08-13T23:32:44.162270Z",
     "shell.execute_reply": "2021-08-13T23:32:44.161729Z"
    },
    "id": "_leAIdFKAxAD"
   },
   "outputs": [],
   "source": [
    "import keras_tuner as kt"
   ]
  },
  {
   "cell_type": "markdown",
   "metadata": {
    "id": "ReV_UXOgCZvx"
   },
   "source": [
    "## 下载并准备数据集\n",
    "\n",
    "在本教程中，您将使用 Keras Tuner 为某个对 [Fashion MNIST 数据集](https://github.com/zalandoresearch/fashion-mnist)内的服装图像进行分类的机器学习模型找到最佳超参数。"
   ]
  },
  {
   "cell_type": "markdown",
   "metadata": {
    "id": "HljH_ENLEdHa"
   },
   "source": [
    "加载数据。"
   ]
  },
  {
   "cell_type": "code",
   "execution_count": 5,
   "metadata": {
    "execution": {
     "iopub.execute_input": "2021-08-13T23:32:44.167648Z",
     "iopub.status.busy": "2021-08-13T23:32:44.166669Z",
     "iopub.status.idle": "2021-08-13T23:32:44.575077Z",
     "shell.execute_reply": "2021-08-13T23:32:44.574556Z"
    },
    "id": "OHlHs9Wj_PUM"
   },
   "outputs": [
    {
     "name": "stdout",
     "output_type": "stream",
     "text": [
      "Downloading data from https://storage.googleapis.com/tensorflow/tf-keras-datasets/train-labels-idx1-ubyte.gz\n",
      "32768/29515 [=================================] - 0s 0us/step\n",
      "40960/29515 [=========================================] - 0s 0us/step\n",
      "Downloading data from https://storage.googleapis.com/tensorflow/tf-keras-datasets/train-images-idx3-ubyte.gz\n",
      "26427392/26421880 [==============================] - 4s 0us/step\n",
      "26435584/26421880 [==============================] - 4s 0us/step\n",
      "Downloading data from https://storage.googleapis.com/tensorflow/tf-keras-datasets/t10k-labels-idx1-ubyte.gz\n",
      "16384/5148 [===============================================================================================] - 0s 0us/step\n",
      "Downloading data from https://storage.googleapis.com/tensorflow/tf-keras-datasets/t10k-images-idx3-ubyte.gz\n",
      "4423680/4422102 [==============================] - 1s 0us/step\n",
      "4431872/4422102 [==============================] - 1s 0us/step\n"
     ]
    }
   ],
   "source": [
    "(img_train, label_train), (img_test, label_test) = keras.datasets.fashion_mnist.load_data()"
   ]
  },
  {
   "cell_type": "code",
   "execution_count": 6,
   "metadata": {
    "execution": {
     "iopub.execute_input": "2021-08-13T23:32:44.580468Z",
     "iopub.status.busy": "2021-08-13T23:32:44.579275Z",
     "iopub.status.idle": "2021-08-13T23:32:44.657114Z",
     "shell.execute_reply": "2021-08-13T23:32:44.656602Z"
    },
    "id": "bLVhXs3xrUD0"
   },
   "outputs": [],
   "source": [
    "# Normalize pixel values between 0 and 1\n",
    "img_train = img_train.astype('float32') / 255.0\n",
    "img_test = img_test.astype('float32') / 255.0"
   ]
  },
  {
   "cell_type": "markdown",
   "metadata": {
    "id": "K5YEL2H2Ax3e"
   },
   "source": [
    "## 定义模型\n",
    "\n",
    "构建用于超调的模型时，除了模型架构之外，还要定义超参数搜索空间。您为超调设置的模型称为*超模型*。\n",
    "\n",
    "您可以通过两种方式定义超模型：\n",
    "\n",
    "- 使用模型构建工具函数\n",
    "- 将 Keras Tuner API 的 `HyperModel` 类子类化\n",
    "\n",
    "您还可以将两个预定义的 `HyperModel` 类（[HyperXception](https://keras-team.github.io/keras-tuner/documentation/hypermodels/#hyperxception-class) 和 [HyperResNet](https://keras-team.github.io/keras-tuner/documentation/hypermodels/#hyperresnet-class)）用于计算机视觉应用。\n",
    "\n",
    "在本教程中，您将使用模型构建工具函数来定义图像分类模型。模型构建工具函数将返回已编译的模型，并使用您以内嵌方式定义的超参数对模型进行超调。"
   ]
  },
  {
   "cell_type": "code",
   "execution_count": 7,
   "metadata": {
    "execution": {
     "iopub.execute_input": "2021-08-13T23:32:44.663766Z",
     "iopub.status.busy": "2021-08-13T23:32:44.662991Z",
     "iopub.status.idle": "2021-08-13T23:32:44.664941Z",
     "shell.execute_reply": "2021-08-13T23:32:44.665260Z"
    },
    "id": "ZQKodC-jtsva"
   },
   "outputs": [],
   "source": [
    "def model_builder(hp):\n",
    "  model = keras.Sequential()\n",
    "  model.add(keras.layers.Flatten(input_shape=(28, 28)))\n",
    "\n",
    "  # Tune the number of units in the first Dense layer\n",
    "  # Choose an optimal value between 32-512\n",
    "  hp_units = hp.Int('units', min_value=32, max_value=512, step=32)\n",
    "  model.add(keras.layers.Dense(units=hp_units, activation='relu'))\n",
    "  model.add(keras.layers.Dense(10))\n",
    "\n",
    "  # Tune the learning rate for the optimizer\n",
    "  # Choose an optimal value from 0.01, 0.001, or 0.0001\n",
    "  hp_learning_rate = hp.Choice('learning_rate', values=[1e-2, 1e-3, 1e-4])\n",
    "\n",
    "  model.compile(optimizer=keras.optimizers.Adam(learning_rate=hp_learning_rate),\n",
    "                loss=keras.losses.SparseCategoricalCrossentropy(from_logits=True),\n",
    "                metrics=['accuracy'])\n",
    "\n",
    "  return model"
   ]
  },
  {
   "cell_type": "markdown",
   "metadata": {
    "id": "0J1VYw4q3x0b"
   },
   "source": [
    "## 实例化调节器并执行超调\n",
    "\n",
    "实例化调节器以执行超调。Keras Tuner 提供了四种调节器：`RandomSearch`、`Hyperband`、`BayesianOptimization` 和 `Sklearn`。在本教程中，您将使用 [Hyperband](https://arxiv.org/pdf/1603.06560.pdf) 调节器。\n",
    "\n",
    "要实例化 Hyperband 调节器，必须指定超模型、要优化的 `objective` 和要训练的最大周期数 (`max_epochs`)。"
   ]
  },
  {
   "cell_type": "code",
   "execution_count": 8,
   "metadata": {
    "execution": {
     "iopub.execute_input": "2021-08-13T23:32:44.671395Z",
     "iopub.status.busy": "2021-08-13T23:32:44.670564Z",
     "iopub.status.idle": "2021-08-13T23:32:46.311732Z",
     "shell.execute_reply": "2021-08-13T23:32:46.311291Z"
    },
    "id": "oichQFly6Y46"
   },
   "outputs": [
    {
     "name": "stderr",
     "output_type": "stream",
     "text": [
      "2021-12-24 14:57:13.028416: I tensorflow/core/platform/cpu_feature_guard.cc:151] This TensorFlow binary is optimized with oneAPI Deep Neural Network Library (oneDNN) to use the following CPU instructions in performance-critical operations:  AVX2 FMA\n",
      "To enable them in other operations, rebuild TensorFlow with the appropriate compiler flags.\n"
     ]
    }
   ],
   "source": [
    "tuner = kt.Hyperband(model_builder,\n",
    "                     objective='val_accuracy',\n",
    "                     max_epochs=10,\n",
    "                     factor=3,\n",
    "                     directory='my_dir',\n",
    "                     project_name='intro_to_kt')"
   ]
  },
  {
   "cell_type": "markdown",
   "metadata": {
    "id": "VaIhhdKf9VtI"
   },
   "source": [
    "Hyperband 调节算法使用自适应资源分配和早停法来快速收敛到高性能模型。该过程采用了体育竞技争冠模式的排除法。算法会将大量模型训练多个周期，并仅将性能最高的一半模型送入下一轮训练。Hyperband 通过计算 1 + log<sub><code>factor</code></sub>(`max_epochs`) 并将其向上舍入到最接近的整数来确定要训练的模型的数量。"
   ]
  },
  {
   "cell_type": "markdown",
   "metadata": {
    "id": "cwhBdXx0Ekj8"
   },
   "source": [
    "创建回调以在验证损失达到特定值后提前停止训练。"
   ]
  },
  {
   "cell_type": "code",
   "execution_count": 9,
   "metadata": {
    "execution": {
     "iopub.execute_input": "2021-08-13T23:32:46.316443Z",
     "iopub.status.busy": "2021-08-13T23:32:46.315635Z",
     "iopub.status.idle": "2021-08-13T23:32:46.317528Z",
     "shell.execute_reply": "2021-08-13T23:32:46.317904Z"
    },
    "id": "WT9IkS9NEjLc"
   },
   "outputs": [],
   "source": [
    "stop_early = tf.keras.callbacks.EarlyStopping(monitor='val_loss', patience=5)"
   ]
  },
  {
   "cell_type": "markdown",
   "metadata": {
    "id": "UKghEo15Tduy"
   },
   "source": [
    "运行超参数搜索。除了上面的回调外，搜索方法的参数也与 `tf.keras.model.fit` 所用参数相同。"
   ]
  },
  {
   "cell_type": "code",
   "execution_count": 11,
   "metadata": {
    "execution": {
     "iopub.execute_input": "2021-08-13T23:32:46.323615Z",
     "iopub.status.busy": "2021-08-13T23:32:46.322756Z",
     "iopub.status.idle": "2021-08-13T23:38:43.405654Z",
     "shell.execute_reply": "2021-08-13T23:38:43.406077Z"
    },
    "id": "dSBQcTHF9cKt"
   },
   "outputs": [
    {
     "name": "stdout",
     "output_type": "stream",
     "text": [
      "Trial 31 Complete [00h 00m 39s]\n",
      "val_accuracy: 0.8866666555404663\n",
      "\n",
      "Best val_accuracy So Far: 0.8879166841506958\n",
      "Total elapsed time: 00h 10m 59s\n",
      "INFO:tensorflow:Oracle triggered exit\n",
      "\n",
      "The hyperparameter search is complete. The optimal number of units in the first densely-connected\n",
      "layer is 288 and the optimal learning rate for the optimizer\n",
      "is 0.001.\n",
      "\n"
     ]
    }
   ],
   "source": [
    "tuner.search(img_train, label_train, epochs=50, validation_split=0.2, callbacks=[stop_early])\n",
    "\n",
    "# Get the optimal hyperparameters\n",
    "best_hps=tuner.get_best_hyperparameters(num_trials=1)[0]\n",
    "\n",
    "print(f\"\"\"\n",
    "The hyperparameter search is complete. The optimal number of units in the first densely-connected\n",
    "layer is {best_hps.get('units')} and the optimal learning rate for the optimizer\n",
    "is {best_hps.get('learning_rate')}.\n",
    "\"\"\")"
   ]
  },
  {
   "cell_type": "markdown",
   "metadata": {
    "id": "Lak_ylf88xBv"
   },
   "source": [
    "## 训练模型\n",
    "\n",
    "使用从搜索中获得的超参数找到训练模型的最佳周期数。"
   ]
  },
  {
   "cell_type": "code",
   "execution_count": 12,
   "metadata": {
    "execution": {
     "iopub.execute_input": "2021-08-13T23:38:43.412046Z",
     "iopub.status.busy": "2021-08-13T23:38:43.411411Z",
     "iopub.status.idle": "2021-08-13T23:40:58.149612Z",
     "shell.execute_reply": "2021-08-13T23:40:58.149125Z"
    },
    "id": "McO82AXOuxXh"
   },
   "outputs": [
    {
     "name": "stdout",
     "output_type": "stream",
     "text": [
      "Epoch 1/50\n",
      "1500/1500 [==============================] - 6s 4ms/step - loss: 0.4996 - accuracy: 0.8235 - val_loss: 0.4373 - val_accuracy: 0.8418\n",
      "Epoch 2/50\n",
      "1500/1500 [==============================] - 6s 4ms/step - loss: 0.3754 - accuracy: 0.8631 - val_loss: 0.3828 - val_accuracy: 0.8627\n",
      "Epoch 3/50\n",
      "1500/1500 [==============================] - 6s 4ms/step - loss: 0.3327 - accuracy: 0.8783 - val_loss: 0.3540 - val_accuracy: 0.8693\n",
      "Epoch 4/50\n",
      "1500/1500 [==============================] - 8s 5ms/step - loss: 0.3109 - accuracy: 0.8857 - val_loss: 0.3405 - val_accuracy: 0.8752\n",
      "Epoch 5/50\n",
      "1500/1500 [==============================] - 7s 5ms/step - loss: 0.2904 - accuracy: 0.8935 - val_loss: 0.3326 - val_accuracy: 0.8826\n",
      "Epoch 6/50\n",
      "1500/1500 [==============================] - 8s 6ms/step - loss: 0.2722 - accuracy: 0.8999 - val_loss: 0.3290 - val_accuracy: 0.8815\n",
      "Epoch 7/50\n",
      "1500/1500 [==============================] - 7s 5ms/step - loss: 0.2606 - accuracy: 0.9016 - val_loss: 0.3107 - val_accuracy: 0.8899\n",
      "Epoch 8/50\n",
      "1500/1500 [==============================] - 7s 5ms/step - loss: 0.2487 - accuracy: 0.9069 - val_loss: 0.3244 - val_accuracy: 0.8857\n",
      "Epoch 9/50\n",
      "1500/1500 [==============================] - 9s 6ms/step - loss: 0.2376 - accuracy: 0.9108 - val_loss: 0.3245 - val_accuracy: 0.8856\n",
      "Epoch 10/50\n",
      "1500/1500 [==============================] - 12s 8ms/step - loss: 0.2292 - accuracy: 0.9148 - val_loss: 0.3314 - val_accuracy: 0.8814\n",
      "Epoch 11/50\n",
      "1500/1500 [==============================] - 7s 4ms/step - loss: 0.2172 - accuracy: 0.9186 - val_loss: 0.3194 - val_accuracy: 0.8858\n",
      "Epoch 12/50\n",
      "1500/1500 [==============================] - 7s 5ms/step - loss: 0.2100 - accuracy: 0.9217 - val_loss: 0.3128 - val_accuracy: 0.8937\n",
      "Epoch 13/50\n",
      "1500/1500 [==============================] - 6s 4ms/step - loss: 0.2046 - accuracy: 0.9223 - val_loss: 0.3400 - val_accuracy: 0.8861\n",
      "Epoch 14/50\n",
      "1500/1500 [==============================] - 9s 6ms/step - loss: 0.1978 - accuracy: 0.9255 - val_loss: 0.3116 - val_accuracy: 0.8937\n",
      "Epoch 15/50\n",
      "1500/1500 [==============================] - 6s 4ms/step - loss: 0.1889 - accuracy: 0.9296 - val_loss: 0.3276 - val_accuracy: 0.8940\n",
      "Epoch 16/50\n",
      "1500/1500 [==============================] - 6s 4ms/step - loss: 0.1827 - accuracy: 0.9307 - val_loss: 0.3539 - val_accuracy: 0.8900\n",
      "Epoch 17/50\n",
      "1500/1500 [==============================] - 6s 4ms/step - loss: 0.1767 - accuracy: 0.9344 - val_loss: 0.3343 - val_accuracy: 0.8938\n",
      "Epoch 18/50\n",
      "1500/1500 [==============================] - 6s 4ms/step - loss: 0.1714 - accuracy: 0.9349 - val_loss: 0.3495 - val_accuracy: 0.8866\n",
      "Epoch 19/50\n",
      "1500/1500 [==============================] - 7s 5ms/step - loss: 0.1669 - accuracy: 0.9374 - val_loss: 0.3255 - val_accuracy: 0.8928\n",
      "Epoch 20/50\n",
      "1500/1500 [==============================] - 7s 4ms/step - loss: 0.1613 - accuracy: 0.9385 - val_loss: 0.3471 - val_accuracy: 0.8936\n",
      "Epoch 21/50\n",
      "1500/1500 [==============================] - 6s 4ms/step - loss: 0.1572 - accuracy: 0.9406 - val_loss: 0.3510 - val_accuracy: 0.8953\n",
      "Epoch 22/50\n",
      "1500/1500 [==============================] - 7s 4ms/step - loss: 0.1506 - accuracy: 0.9437 - val_loss: 0.3614 - val_accuracy: 0.8917\n",
      "Epoch 23/50\n",
      "1500/1500 [==============================] - 6s 4ms/step - loss: 0.1453 - accuracy: 0.9466 - val_loss: 0.3567 - val_accuracy: 0.8938\n",
      "Epoch 24/50\n",
      "1500/1500 [==============================] - 6s 4ms/step - loss: 0.1437 - accuracy: 0.9453 - val_loss: 0.3528 - val_accuracy: 0.8912\n",
      "Epoch 25/50\n",
      "1500/1500 [==============================] - 6s 4ms/step - loss: 0.1383 - accuracy: 0.9488 - val_loss: 0.3974 - val_accuracy: 0.8846\n",
      "Epoch 26/50\n",
      "1500/1500 [==============================] - 7s 5ms/step - loss: 0.1335 - accuracy: 0.9498 - val_loss: 0.3643 - val_accuracy: 0.8939\n",
      "Epoch 27/50\n",
      "1500/1500 [==============================] - 7s 5ms/step - loss: 0.1345 - accuracy: 0.9503 - val_loss: 0.3767 - val_accuracy: 0.8921\n",
      "Epoch 28/50\n",
      "1500/1500 [==============================] - 6s 4ms/step - loss: 0.1274 - accuracy: 0.9521 - val_loss: 0.3732 - val_accuracy: 0.8944\n",
      "Epoch 29/50\n",
      "1500/1500 [==============================] - 5s 3ms/step - loss: 0.1244 - accuracy: 0.9528 - val_loss: 0.3779 - val_accuracy: 0.8909\n",
      "Epoch 30/50\n",
      "1500/1500 [==============================] - 5s 3ms/step - loss: 0.1220 - accuracy: 0.9538 - val_loss: 0.3847 - val_accuracy: 0.8936\n",
      "Epoch 31/50\n",
      "1500/1500 [==============================] - 8s 5ms/step - loss: 0.1172 - accuracy: 0.9568 - val_loss: 0.3811 - val_accuracy: 0.8967\n",
      "Epoch 32/50\n",
      "1500/1500 [==============================] - 8s 5ms/step - loss: 0.1141 - accuracy: 0.9571 - val_loss: 0.3932 - val_accuracy: 0.8967\n",
      "Epoch 33/50\n",
      "1500/1500 [==============================] - 5s 3ms/step - loss: 0.1096 - accuracy: 0.9591 - val_loss: 0.4026 - val_accuracy: 0.8961\n",
      "Epoch 34/50\n",
      "1500/1500 [==============================] - 5s 3ms/step - loss: 0.1102 - accuracy: 0.9589 - val_loss: 0.4075 - val_accuracy: 0.8938\n",
      "Epoch 35/50\n",
      "1500/1500 [==============================] - 6s 4ms/step - loss: 0.1071 - accuracy: 0.9596 - val_loss: 0.4615 - val_accuracy: 0.8940\n",
      "Epoch 36/50\n",
      "1500/1500 [==============================] - 6s 4ms/step - loss: 0.1046 - accuracy: 0.9604 - val_loss: 0.4427 - val_accuracy: 0.8897\n",
      "Epoch 37/50\n",
      "1500/1500 [==============================] - 6s 4ms/step - loss: 0.1040 - accuracy: 0.9612 - val_loss: 0.4335 - val_accuracy: 0.8968\n",
      "Epoch 38/50\n",
      "1500/1500 [==============================] - 6s 4ms/step - loss: 0.1005 - accuracy: 0.9627 - val_loss: 0.4388 - val_accuracy: 0.8951\n",
      "Epoch 39/50\n",
      "1500/1500 [==============================] - 7s 5ms/step - loss: 0.0966 - accuracy: 0.9638 - val_loss: 0.4739 - val_accuracy: 0.8868\n",
      "Epoch 40/50\n",
      "1500/1500 [==============================] - 6s 4ms/step - loss: 0.0946 - accuracy: 0.9642 - val_loss: 0.4525 - val_accuracy: 0.8954\n",
      "Epoch 41/50\n",
      "1500/1500 [==============================] - 5s 3ms/step - loss: 0.0927 - accuracy: 0.9651 - val_loss: 0.4845 - val_accuracy: 0.8892\n",
      "Epoch 42/50\n",
      "1500/1500 [==============================] - 5s 3ms/step - loss: 0.0920 - accuracy: 0.9658 - val_loss: 0.4686 - val_accuracy: 0.8945\n",
      "Epoch 43/50\n",
      "1500/1500 [==============================] - 4s 3ms/step - loss: 0.0894 - accuracy: 0.9664 - val_loss: 0.4688 - val_accuracy: 0.8922\n",
      "Epoch 44/50\n",
      "1500/1500 [==============================] - 5s 3ms/step - loss: 0.0892 - accuracy: 0.9662 - val_loss: 0.4850 - val_accuracy: 0.8947\n",
      "Epoch 45/50\n",
      "1500/1500 [==============================] - 4s 3ms/step - loss: 0.0865 - accuracy: 0.9679 - val_loss: 0.5188 - val_accuracy: 0.8843\n",
      "Epoch 46/50\n",
      "1500/1500 [==============================] - 4s 3ms/step - loss: 0.0836 - accuracy: 0.9688 - val_loss: 0.5081 - val_accuracy: 0.8916\n",
      "Epoch 47/50\n",
      "1500/1500 [==============================] - 6s 4ms/step - loss: 0.0816 - accuracy: 0.9692 - val_loss: 0.4807 - val_accuracy: 0.8953\n",
      "Epoch 48/50\n",
      "1500/1500 [==============================] - 5s 3ms/step - loss: 0.0813 - accuracy: 0.9690 - val_loss: 0.4984 - val_accuracy: 0.8930\n",
      "Epoch 49/50\n",
      "1500/1500 [==============================] - 5s 3ms/step - loss: 0.0792 - accuracy: 0.9710 - val_loss: 0.5122 - val_accuracy: 0.8913\n",
      "Epoch 50/50\n",
      "1500/1500 [==============================] - 5s 3ms/step - loss: 0.0772 - accuracy: 0.9714 - val_loss: 0.5264 - val_accuracy: 0.8906\n",
      "Best epoch: 37\n"
     ]
    }
   ],
   "source": [
    "# Build the model with the optimal hyperparameters and train it on the data for 50 epochs\n",
    "model = tuner.hypermodel.build(best_hps)\n",
    "history = model.fit(img_train, label_train, epochs=50, validation_split=0.2)\n",
    "\n",
    "val_acc_per_epoch = history.history['val_accuracy']\n",
    "best_epoch = val_acc_per_epoch.index(max(val_acc_per_epoch)) + 1\n",
    "print('Best epoch: %d' % (best_epoch,))"
   ]
  },
  {
   "cell_type": "markdown",
   "metadata": {
    "id": "uOTSirSTI3Gp"
   },
   "source": [
    "重新实例化超模型并使用上面的最佳周期数对其进行训练。"
   ]
  },
  {
   "cell_type": "code",
   "execution_count": null,
   "metadata": {
    "execution": {
     "iopub.execute_input": "2021-08-13T23:40:58.154974Z",
     "iopub.status.busy": "2021-08-13T23:40:58.154413Z",
     "iopub.status.idle": "2021-08-13T23:42:06.720832Z",
     "shell.execute_reply": "2021-08-13T23:42:06.720387Z"
    },
    "id": "NoiPUEHmMhCe"
   },
   "outputs": [],
   "source": [
    "hypermodel = tuner.hypermodel.build(best_hps)\n",
    "\n",
    "# Retrain the model\n",
    "hypermodel.fit(img_train, label_train, epochs=best_epoch, validation_split=0.2)"
   ]
  },
  {
   "cell_type": "markdown",
   "metadata": {
    "id": "MqU5ZVAaag2v"
   },
   "source": [
    "要完成本教程，请在测试数据上评估超模型。"
   ]
  },
  {
   "cell_type": "code",
   "execution_count": null,
   "metadata": {
    "execution": {
     "iopub.execute_input": "2021-08-13T23:42:06.725426Z",
     "iopub.status.busy": "2021-08-13T23:42:06.724872Z",
     "iopub.status.idle": "2021-08-13T23:42:07.463643Z",
     "shell.execute_reply": "2021-08-13T23:42:07.463195Z"
    },
    "id": "9E0BTp9Ealjb"
   },
   "outputs": [],
   "source": [
    "eval_result = hypermodel.evaluate(img_test, label_test)\n",
    "print(\"[test loss, test accuracy]:\", eval_result)"
   ]
  },
  {
   "cell_type": "markdown",
   "metadata": {
    "id": "EQRpPHZsz-eC"
   },
   "source": [
    "`my_dir/intro_to_kt` 目录中包含了在超参数搜索期间每次试验（模型配置）运行的详细日志和检查点。如果重新运行超参数搜索，Keras Tuner 将使用这些日志中记录的现有状态来继续搜索。要停用此行为，请在实例化调节器时传递一个附加的 `overwrite = True` 参数。"
   ]
  },
  {
   "cell_type": "markdown",
   "metadata": {
    "id": "sKwLOzKpFGAj"
   },
   "source": [
    "## 总结\n",
    "\n",
    "在本教程中，您学习了如何使用 Keras Tuner 调节模型的超参数。要详细了解 Keras Tuner，请查看以下其他资源：\n",
    "\n",
    "- [TensorFlow 博客上的 Keras Tuner](https://blog.tensorflow.org/2020/01/hyperparameter-tuning-with-keras-tuner.html)\n",
    "- [Keras Tuner 网站](https://keras-team.github.io/keras-tuner/)\n",
    "\n",
    "另请查看 TensorBoard 中的 [HParams Dashboard](https://tensorflow.google.cn/tensorboard/hyperparameter_tuning_with_hparams)，以交互方式调节模型超参数。"
   ]
  }
 ],
 "metadata": {
  "accelerator": "GPU",
  "colab": {
   "collapsed_sections": [
    "Tce3stUlHN0L"
   ],
   "name": "keras_tuner.ipynb",
   "toc_visible": true
  },
  "kernelspec": {
   "display_name": "Python 3 (ipykernel)",
   "language": "python",
   "name": "python3"
  },
  "language_info": {
   "codemirror_mode": {
    "name": "ipython",
    "version": 3
   },
   "file_extension": ".py",
   "mimetype": "text/x-python",
   "name": "python",
   "nbconvert_exporter": "python",
   "pygments_lexer": "ipython3",
   "version": "3.9.7"
  }
 },
 "nbformat": 4,
 "nbformat_minor": 1
}
